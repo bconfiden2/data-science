{
 "cells": [
  {
   "cell_type": "code",
   "execution_count": 1,
   "id": "expired-profession",
   "metadata": {},
   "outputs": [],
   "source": [
    "import torch\n",
    "import torch.nn as nn"
   ]
  },
  {
   "cell_type": "code",
   "execution_count": 2,
   "id": "generic-budget",
   "metadata": {},
   "outputs": [],
   "source": [
    "device = 'cuda' if torch.cuda.is_available else 'cpu'\n",
    "IMG_SIZE = 227"
   ]
  },
  {
   "cell_type": "code",
   "execution_count": 3,
   "id": "invalid-elephant",
   "metadata": {},
   "outputs": [],
   "source": [
    "class AlexNet(nn.Module):\n",
    "    def __init__(self, in_channels, num_class):\n",
    "        super(AlexNet, self).__init__()\n",
    "        \n",
    "        self.in_channels = in_channels\n",
    "        self.num_class = num_class\n",
    "        \n",
    "        # Convolutional Layers\n",
    "        self.conv_layers = nn.Sequential(\n",
    "            \n",
    "            # Layer 1\n",
    "            nn.Conv2d(in_channels=in_channels, out_channels=96, kernel_size=11, stride=4, padding=0),\n",
    "            nn.ReLU(),                                # ReLU activation function\n",
    "            nn.MaxPool2d(kernel_size=3, stride=2),    # Overlapping Pooling\n",
    "            nn.LocalResponseNorm(size=5),             # LRN\n",
    "            \n",
    "            # Layer 2\n",
    "            nn.Conv2d(in_channels=96, out_channels=256, kernel_size=5, stride=1, padding=2),\n",
    "            nn.ReLU(),\n",
    "            nn.MaxPool2d(kernel_size=3, stride=2),\n",
    "            nn.LocalResponseNorm(size=5),\n",
    "            \n",
    "            # Layer 3\n",
    "            nn.Conv2d(in_channels=256, out_channels=384, kernel_size=3, stride=1, padding=1),\n",
    "            nn.ReLU(),\n",
    "            nn.Conv2d(in_channels=384, out_channels=384, kernel_size=3, stride=1, padding=1),\n",
    "            nn.ReLU(),\n",
    "            nn.Conv2d(in_channels=384, out_channels=256, kernel_size=3, stride=1, padding=1),\n",
    "            nn.ReLU(),\n",
    "            nn.MaxPool2d(kernel_size=3, stride=2),\n",
    "        )\n",
    "        \n",
    "        # Fully Connected Layers\n",
    "        self.fc_layers = nn.Sequential(\n",
    "            \n",
    "            # Layer 1\n",
    "            nn.Linear(9216, 4096),\n",
    "            nn.ReLU(),\n",
    "            nn.Dropout(p=0.5),    # Dropout in fclayers\n",
    "            \n",
    "            # Layer 2\n",
    "            nn.Linear(4096, 4096),\n",
    "            nn.ReLU(),\n",
    "            nn.Dropout(p=0.5),\n",
    "            \n",
    "            # Ouput\n",
    "            nn.Linear(4096, num_class),\n",
    "            nn.Softmax(dim=1),\n",
    "        )\n",
    "        \n",
    "    def forward(self, x):\n",
    "        x = self.conv_layers(x)\n",
    "        x = x.reshape(x.shape[0], -1)\n",
    "        x = self.fc_layers(x)\n",
    "        return x"
   ]
  },
  {
   "cell_type": "code",
   "execution_count": 4,
   "id": "worth-sculpture",
   "metadata": {},
   "outputs": [
    {
     "data": {
      "text/plain": [
       "tensor([[0.0986, 0.0997, 0.0973, 0.1022, 0.1000, 0.1018, 0.1021, 0.0989, 0.0989,\n",
       "         0.1005],\n",
       "        [0.0994, 0.0987, 0.1005, 0.1000, 0.1004, 0.1019, 0.1025, 0.0987, 0.1003,\n",
       "         0.0974],\n",
       "        [0.1001, 0.0997, 0.0989, 0.1022, 0.0997, 0.1005, 0.1021, 0.0975, 0.0999,\n",
       "         0.0997],\n",
       "        [0.0999, 0.0996, 0.0990, 0.1012, 0.1005, 0.1004, 0.1011, 0.0990, 0.0999,\n",
       "         0.0994],\n",
       "        [0.1000, 0.1000, 0.0992, 0.1020, 0.0995, 0.1010, 0.1031, 0.0968, 0.0987,\n",
       "         0.0998],\n",
       "        [0.0987, 0.1014, 0.0975, 0.1013, 0.1005, 0.1004, 0.1033, 0.0978, 0.0985,\n",
       "         0.1006],\n",
       "        [0.1002, 0.1009, 0.0973, 0.1015, 0.1020, 0.0993, 0.1004, 0.0975, 0.1001,\n",
       "         0.1007],\n",
       "        [0.1011, 0.0996, 0.0993, 0.1026, 0.1002, 0.0994, 0.1001, 0.0989, 0.0993,\n",
       "         0.0995],\n",
       "        [0.0999, 0.1010, 0.1014, 0.1021, 0.0992, 0.0986, 0.1012, 0.0981, 0.0994,\n",
       "         0.0991],\n",
       "        [0.0995, 0.0989, 0.0984, 0.1026, 0.1008, 0.1006, 0.1026, 0.0973, 0.0999,\n",
       "         0.0995]], device='cuda:0', grad_fn=<SoftmaxBackward>)"
      ]
     },
     "execution_count": 4,
     "metadata": {},
     "output_type": "execute_result"
    }
   ],
   "source": [
    "model = AlexNet(in_channels=3, num_class=10).to(device)\n",
    "x = torch.randn(10, 3, IMG_SIZE, IMG_SIZE).to(device)\n",
    "model(x)"
   ]
  }
 ],
 "metadata": {
  "kernelspec": {
   "display_name": "Python 3",
   "language": "python",
   "name": "python3"
  },
  "language_info": {
   "codemirror_mode": {
    "name": "ipython",
    "version": 3
   },
   "file_extension": ".py",
   "mimetype": "text/x-python",
   "name": "python",
   "nbconvert_exporter": "python",
   "pygments_lexer": "ipython3",
   "version": "3.8.10"
  }
 },
 "nbformat": 4,
 "nbformat_minor": 5
}
