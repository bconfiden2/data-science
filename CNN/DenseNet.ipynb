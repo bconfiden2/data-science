{
 "cells": [
  {
   "cell_type": "code",
   "execution_count": 1,
   "metadata": {
    "id": "U4dwPLc6ssYC"
   },
   "outputs": [],
   "source": [
    "import math\n",
    "import torch\n",
    "import torch.nn as nn\n",
    "import torch.nn.functional as F\n",
    "import torch.optim\n",
    "import torch.utils.data"
   ]
  },
  {
   "cell_type": "code",
   "execution_count": 2,
   "metadata": {
    "id": "R8lKb9IcnjXz"
   },
   "outputs": [],
   "source": [
    "device = torch.device('cuda' if torch.cuda.is_available() else 'cpu')\n",
    "IMG_SIZE = 32"
   ]
  },
  {
   "cell_type": "code",
   "execution_count": 4,
   "metadata": {
    "id": "U0tUkLrgnumJ"
   },
   "outputs": [],
   "source": [
    "class BasicBlock(nn.Module):\n",
    "    def __init__(self, in_planes, out_planes):      \n",
    "        super(BasicBlock, self).__init__()\n",
    "        self.bn1 = nn.BatchNorm2d(in_planes)\n",
    "        self.relu = nn.ReLU(inplace=True)\n",
    "        self.conv1 = nn.Conv2d(in_planes, out_planes, kernel_size=3, stride=1, padding=1, bias = False)\n",
    "        \n",
    "    def forward(self,x):\n",
    "        out = self.conv1(self.relu(self.bn1(x)))\n",
    "        return torch.cat([x,out], 1)\n",
    "        \n",
    "class BottleneckBlock(nn.Module):\n",
    "    def __init__(self, in_planes, out_planes):\n",
    "        super(BottleneckBlock,self).__init__()\n",
    "        \n",
    "        # 중간 채널 수 = 4*k 로 설정\n",
    "        inter_planes = out_planes * 4\n",
    "        # 1x1 필터 적용\n",
    "        self.bn1 = nn.BatchNorm2d(in_planes)\n",
    "        self.relu = nn.ReLU(inplace=True)\n",
    "        self.conv1 = nn.Conv2d(in_planes, inter_planes, kernel_size=1, stride=1, padding=0, bias=False)\n",
    "        # 3x3 필터\n",
    "        self.bn2 = nn.BatchNorm2d(inter_planes)\n",
    "        self.relu = nn.ReLU(inplace=True)\n",
    "        self.conv2 = nn.Conv2d(inter_planes, out_planes, kernel_size=3, stride=1, padding=1, bias=False)\n",
    "        \n",
    "    def forward(self, x):\n",
    "        out = self.conv1(self.relu(self.bn1(x)))\n",
    "        out = self.conv2(self.relu(self.bn2(out)))\n",
    "        \n",
    "        # 입력값과 이번 레이어를 거친 출력값을 concat 해서 반환\n",
    "        return torch.cat([x,out], 1)"
   ]
  },
  {
   "cell_type": "code",
   "execution_count": 5,
   "metadata": {
    "id": "CXJPmcI9n29Y"
   },
   "outputs": [],
   "source": [
    "class DenseBlock(nn.Module):\n",
    "    def __init__(self, n_layers, in_planes, k, block):\n",
    "        super(DenseBlock, self).__init__()\n",
    "        self.layer = self.make_layer(block, in_planes, k, n_layers)\n",
    "    \n",
    "    # 덴스블록에 들어가는 레이어들을 생성하는 함수\n",
    "    def make_layer(self, block, in_planes, k, n_layers):\n",
    "        layers=[]\n",
    "        # 레이어 개수만큼 맞는 블록타입의 레이어 생성\n",
    "        for i in range(n_layers):\n",
    "            layers.append(block(in_planes + i * k, k))\n",
    "        return nn.Sequential(*layers)\n",
    "    \n",
    "    def forward(self,x):\n",
    "        return self.layer(x)"
   ]
  },
  {
   "cell_type": "code",
   "execution_count": 11,
   "metadata": {
    "id": "wd2KGubin5PC"
   },
   "outputs": [],
   "source": [
    "class TransitionLayer(nn.Module):\n",
    "    def __init__(self, in_planes, out_planes):\n",
    "        super(TransitionLayer,self).__init__()\n",
    "        self.bn1 = nn.BatchNorm2d(in_planes)\n",
    "        self.relu = nn.ReLU(inplace=True)\n",
    "        self.conv1 = nn.Conv2d(in_planes, out_planes, kernel_size=1, stride=1, padding=0, bias=False)\n",
    "        \n",
    "    def forward(self,x):\n",
    "        out = self.conv1(self.relu(self.bn1(x)))\n",
    "        return F.avg_pool2d(out, 2)"
   ]
  },
  {
   "cell_type": "code",
   "execution_count": 23,
   "metadata": {
    "id": "8u6AauHen-p3"
   },
   "outputs": [],
   "source": [
    "class DenseNet(nn.Module):\n",
    "    def __init__(self, L, num_class, k=12, compression=0.5, bottleneck=True):\n",
    "        super(DenseNet,self).__init__()\n",
    "        num_of_blocks = 3\n",
    "        n = int((L - num_of_blocks - 1) / num_of_blocks)\n",
    "        \n",
    "        # 첫 컨볼루션 채널 설정, 기본 16\n",
    "        in_planes = 16 \n",
    "        # DenseNet-BC 의 경우 대신 2*k 개로 설정\n",
    "        if compression < 1:\n",
    "            in_planes = 2 * k\n",
    "        if bottleneck == True:\n",
    "            in_planes = 2 * k \n",
    "            n = n // 2 \n",
    "            block = BottleneckBlock \n",
    "        else :\n",
    "            block = BasicBlock\n",
    "        \n",
    "        # DenseLayer 들어가기 전 Convolution\n",
    "        self.conv1 = nn.Conv2d(3, in_planes, kernel_size=3, stride=1, padding=1, bias=False) \n",
    "    \n",
    "        # DenseBlock 1\n",
    "        self.db1 = DenseBlock(n, in_planes, k, block)\n",
    "        in_planes = int(in_planes + n * k) \n",
    "        \n",
    "        # TransitionLayer 1\n",
    "        self.tl1 = TransitionLayer(in_planes, int(in_planes*compression))\n",
    "        in_planes = int(in_planes * compression)\n",
    "        \n",
    "        # DenseBlock 2\n",
    "        self.db2 = DenseBlock(n, in_planes, k, block)\n",
    "        in_planes = int(in_planes + n * k)\n",
    "        \n",
    "        # TransitionLayer 2\n",
    "        self.tl2 = TransitionLayer(in_planes, int(in_planes*compression))\n",
    "        in_planes = int(in_planes * compression)\n",
    "        \n",
    "        # DenseBlock 3\n",
    "        self.db3 = DenseBlock(n, in_planes, k, block)\n",
    "        in_planes = int(in_planes + n * k)\n",
    "        \n",
    "        # Fully Connected Layer\n",
    "        self.fc_layer = nn.Linear(in_planes, num_class)\n",
    "        self.in_planes = in_planes\n",
    "        \n",
    "        # Weight Initialization\n",
    "        for m in self.modules():\n",
    "            if isinstance(m, nn.Conv2d):\n",
    "                nn.init.kaiming_normal_(m.weight.data)\n",
    "            elif isinstance(m, nn.BatchNorm2d):\n",
    "                m.weight.data.fill_(1)\n",
    "                m.bias.data.zero_()\n",
    "            elif isinstance(m, nn.Linear):\n",
    "                nn.init.kaiming_uniform_(m.weight.data)\n",
    "        \n",
    "    def forward(self,x):\n",
    "        out = self.conv1(x)\n",
    "        out = self.db1(out)\n",
    "        out = self.tl1(out)\n",
    "        out = self.db2(out)\n",
    "        out = self.tl2(out)\n",
    "        out = self.db3(out)\n",
    "        out = F.avg_pool2d(out,8)\n",
    "        out = out.view(-1, self.in_planes)\n",
    "        out = self.fc_layer(out)\n",
    "        return F.softmax(out, dim=1)"
   ]
  },
  {
   "cell_type": "code",
   "execution_count": 24,
   "metadata": {
    "colab": {
     "base_uri": "https://localhost:8080/",
     "height": 34
    },
    "id": "pNp-y-_ToDTZ",
    "outputId": "fd23b8af-b97c-4da9-8e00-1d1298487e89"
   },
   "outputs": [
    {
     "data": {
      "text/plain": [
       "tensor([[0.1049, 0.0266, 0.0853, 0.1072, 0.1611, 0.0620, 0.1630, 0.1031, 0.0494,\n",
       "         0.1374],\n",
       "        [0.0972, 0.0237, 0.0591, 0.0950, 0.1813, 0.0721, 0.1972, 0.1007, 0.0546,\n",
       "         0.1192],\n",
       "        [0.1412, 0.0304, 0.0743, 0.1147, 0.1331, 0.0738, 0.1326, 0.1317, 0.0512,\n",
       "         0.1170],\n",
       "        [0.1099, 0.0291, 0.0718, 0.0890, 0.1767, 0.0647, 0.1495, 0.1144, 0.0501,\n",
       "         0.1449],\n",
       "        [0.0872, 0.0276, 0.0738, 0.0971, 0.1512, 0.0780, 0.1783, 0.1168, 0.0511,\n",
       "         0.1389],\n",
       "        [0.1028, 0.0308, 0.0694, 0.1095, 0.1637, 0.0646, 0.1632, 0.1183, 0.0552,\n",
       "         0.1224],\n",
       "        [0.0899, 0.0304, 0.0757, 0.0870, 0.1627, 0.0670, 0.1889, 0.1139, 0.0415,\n",
       "         0.1429],\n",
       "        [0.0946, 0.0240, 0.0640, 0.0963, 0.1761, 0.0623, 0.1560, 0.1240, 0.0496,\n",
       "         0.1532],\n",
       "        [0.0986, 0.0306, 0.0652, 0.1101, 0.1399, 0.0855, 0.1553, 0.1166, 0.0513,\n",
       "         0.1470],\n",
       "        [0.0940, 0.0252, 0.0622, 0.0986, 0.1829, 0.0686, 0.1862, 0.1015, 0.0494,\n",
       "         0.1314]], device='cuda:0', grad_fn=<SoftmaxBackward>)"
      ]
     },
     "execution_count": 24,
     "metadata": {},
     "output_type": "execute_result"
    }
   ],
   "source": [
    "model = DenseNet(L=100, num_class=10, k=12, compression=0.5, bottleneck=True).to(device)\n",
    "x = torch.randn(10, 3, IMG_SIZE, IMG_SIZE).to(device)\n",
    "model(x)"
   ]
  }
 ],
 "metadata": {
  "accelerator": "GPU",
  "colab": {
   "collapsed_sections": [],
   "name": "DenseNet.ipynb",
   "provenance": []
  },
  "kernelspec": {
   "display_name": "Python 3",
   "language": "python",
   "name": "python3"
  },
  "language_info": {
   "codemirror_mode": {
    "name": "ipython",
    "version": 3
   },
   "file_extension": ".py",
   "mimetype": "text/x-python",
   "name": "python",
   "nbconvert_exporter": "python",
   "pygments_lexer": "ipython3",
   "version": "3.8.10"
  },
  "widgets": {
   "application/vnd.jupyter.widget-state+json": {
    "1e54d995502743a9a408c72edabec8a2": {
     "model_module": "@jupyter-widgets/controls",
     "model_name": "HBoxModel",
     "state": {
      "_dom_classes": [],
      "_model_module": "@jupyter-widgets/controls",
      "_model_module_version": "1.5.0",
      "_model_name": "HBoxModel",
      "_view_count": null,
      "_view_module": "@jupyter-widgets/controls",
      "_view_module_version": "1.5.0",
      "_view_name": "HBoxView",
      "box_style": "",
      "children": [
       "IPY_MODEL_ae2fb781a0104186b4c35c31ccf2aae6",
       "IPY_MODEL_b6ea62a6adc040ae84a30649407d9e54"
      ],
      "layout": "IPY_MODEL_5df2b2cab2b247cf9287e90355bcd2fd"
     }
    },
    "4a8422957ef34c1f9405d311b48f6217": {
     "model_module": "@jupyter-widgets/base",
     "model_name": "LayoutModel",
     "state": {
      "_model_module": "@jupyter-widgets/base",
      "_model_module_version": "1.2.0",
      "_model_name": "LayoutModel",
      "_view_count": null,
      "_view_module": "@jupyter-widgets/base",
      "_view_module_version": "1.2.0",
      "_view_name": "LayoutView",
      "align_content": null,
      "align_items": null,
      "align_self": null,
      "border": null,
      "bottom": null,
      "display": null,
      "flex": null,
      "flex_flow": null,
      "grid_area": null,
      "grid_auto_columns": null,
      "grid_auto_flow": null,
      "grid_auto_rows": null,
      "grid_column": null,
      "grid_gap": null,
      "grid_row": null,
      "grid_template_areas": null,
      "grid_template_columns": null,
      "grid_template_rows": null,
      "height": null,
      "justify_content": null,
      "justify_items": null,
      "left": null,
      "margin": null,
      "max_height": null,
      "max_width": null,
      "min_height": null,
      "min_width": null,
      "object_fit": null,
      "object_position": null,
      "order": null,
      "overflow": null,
      "overflow_x": null,
      "overflow_y": null,
      "padding": null,
      "right": null,
      "top": null,
      "visibility": null,
      "width": null
     }
    },
    "5df2b2cab2b247cf9287e90355bcd2fd": {
     "model_module": "@jupyter-widgets/base",
     "model_name": "LayoutModel",
     "state": {
      "_model_module": "@jupyter-widgets/base",
      "_model_module_version": "1.2.0",
      "_model_name": "LayoutModel",
      "_view_count": null,
      "_view_module": "@jupyter-widgets/base",
      "_view_module_version": "1.2.0",
      "_view_name": "LayoutView",
      "align_content": null,
      "align_items": null,
      "align_self": null,
      "border": null,
      "bottom": null,
      "display": null,
      "flex": null,
      "flex_flow": null,
      "grid_area": null,
      "grid_auto_columns": null,
      "grid_auto_flow": null,
      "grid_auto_rows": null,
      "grid_column": null,
      "grid_gap": null,
      "grid_row": null,
      "grid_template_areas": null,
      "grid_template_columns": null,
      "grid_template_rows": null,
      "height": null,
      "justify_content": null,
      "justify_items": null,
      "left": null,
      "margin": null,
      "max_height": null,
      "max_width": null,
      "min_height": null,
      "min_width": null,
      "object_fit": null,
      "object_position": null,
      "order": null,
      "overflow": null,
      "overflow_x": null,
      "overflow_y": null,
      "padding": null,
      "right": null,
      "top": null,
      "visibility": null,
      "width": null
     }
    },
    "98782d9738814ce18207039b233f8e53": {
     "model_module": "@jupyter-widgets/controls",
     "model_name": "DescriptionStyleModel",
     "state": {
      "_model_module": "@jupyter-widgets/controls",
      "_model_module_version": "1.5.0",
      "_model_name": "DescriptionStyleModel",
      "_view_count": null,
      "_view_module": "@jupyter-widgets/base",
      "_view_module_version": "1.2.0",
      "_view_name": "StyleView",
      "description_width": ""
     }
    },
    "ab61a4b585334603860d89cdad0c274f": {
     "model_module": "@jupyter-widgets/base",
     "model_name": "LayoutModel",
     "state": {
      "_model_module": "@jupyter-widgets/base",
      "_model_module_version": "1.2.0",
      "_model_name": "LayoutModel",
      "_view_count": null,
      "_view_module": "@jupyter-widgets/base",
      "_view_module_version": "1.2.0",
      "_view_name": "LayoutView",
      "align_content": null,
      "align_items": null,
      "align_self": null,
      "border": null,
      "bottom": null,
      "display": null,
      "flex": null,
      "flex_flow": null,
      "grid_area": null,
      "grid_auto_columns": null,
      "grid_auto_flow": null,
      "grid_auto_rows": null,
      "grid_column": null,
      "grid_gap": null,
      "grid_row": null,
      "grid_template_areas": null,
      "grid_template_columns": null,
      "grid_template_rows": null,
      "height": null,
      "justify_content": null,
      "justify_items": null,
      "left": null,
      "margin": null,
      "max_height": null,
      "max_width": null,
      "min_height": null,
      "min_width": null,
      "object_fit": null,
      "object_position": null,
      "order": null,
      "overflow": null,
      "overflow_x": null,
      "overflow_y": null,
      "padding": null,
      "right": null,
      "top": null,
      "visibility": null,
      "width": null
     }
    },
    "ae2fb781a0104186b4c35c31ccf2aae6": {
     "model_module": "@jupyter-widgets/controls",
     "model_name": "FloatProgressModel",
     "state": {
      "_dom_classes": [],
      "_model_module": "@jupyter-widgets/controls",
      "_model_module_version": "1.5.0",
      "_model_name": "FloatProgressModel",
      "_view_count": null,
      "_view_module": "@jupyter-widgets/controls",
      "_view_module_version": "1.5.0",
      "_view_name": "ProgressView",
      "bar_style": "info",
      "description": "",
      "description_tooltip": null,
      "layout": "IPY_MODEL_4a8422957ef34c1f9405d311b48f6217",
      "max": 1,
      "min": 0,
      "orientation": "horizontal",
      "style": "IPY_MODEL_b06c87ca860b41628522f9f3d829ece3",
      "value": 1
     }
    },
    "b06c87ca860b41628522f9f3d829ece3": {
     "model_module": "@jupyter-widgets/controls",
     "model_name": "ProgressStyleModel",
     "state": {
      "_model_module": "@jupyter-widgets/controls",
      "_model_module_version": "1.5.0",
      "_model_name": "ProgressStyleModel",
      "_view_count": null,
      "_view_module": "@jupyter-widgets/base",
      "_view_module_version": "1.2.0",
      "_view_name": "StyleView",
      "bar_color": null,
      "description_width": "initial"
     }
    },
    "b6ea62a6adc040ae84a30649407d9e54": {
     "model_module": "@jupyter-widgets/controls",
     "model_name": "HTMLModel",
     "state": {
      "_dom_classes": [],
      "_model_module": "@jupyter-widgets/controls",
      "_model_module_version": "1.5.0",
      "_model_name": "HTMLModel",
      "_view_count": null,
      "_view_module": "@jupyter-widgets/controls",
      "_view_module_version": "1.5.0",
      "_view_name": "HTMLView",
      "description": "",
      "description_tooltip": null,
      "layout": "IPY_MODEL_ab61a4b585334603860d89cdad0c274f",
      "placeholder": "​",
      "style": "IPY_MODEL_98782d9738814ce18207039b233f8e53",
      "value": " 170500096/? [00:20&lt;00:00, 51161457.83it/s]"
     }
    }
   }
  }
 },
 "nbformat": 4,
 "nbformat_minor": 1
}
