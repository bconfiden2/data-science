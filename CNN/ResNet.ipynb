{
 "cells": [
  {
   "cell_type": "code",
   "execution_count": 1,
   "id": "external-christianity",
   "metadata": {},
   "outputs": [],
   "source": [
    "import torch\n",
    "import torch.nn as nn\n",
    "import torch.nn.functional as F\n",
    "\n",
    "device = 'cuda' if torch.cuda.is_available else 'cpu'\n",
    "IMG_SIZE = 224"
   ]
  },
  {
   "cell_type": "code",
   "execution_count": 2,
   "id": "subsequent-holocaust",
   "metadata": {},
   "outputs": [],
   "source": [
    "class BasicBlock(nn.Module):\n",
    "    def __init__(self, in_channels, out_channels, stride=1):\n",
    "        super(BasicBlock, self).__init__()\n",
    "        \n",
    "        self.residual = nn.Sequential(\n",
    "            nn.Conv2d(in_channels, out_channels, kernel_size=3, stride=stride, padding=1, bias=False),\n",
    "            nn.BatchNorm2d(out_channels),\n",
    "            nn.ReLU(),\n",
    "            nn.Conv2d(out_channels, out_channels, kernel_size=3, stride=1, padding=1, bias=False),\n",
    "            nn.BatchNorm2d(out_channels),\n",
    "        )\n",
    "        \n",
    "        self.shortcut = nn.Sequential()\n",
    "        if stride != 1:  # 각 층의 첫번째 블록(stride=2) 일 때는 1x1 컨볼루션 적용해서 차원 맞춰줌\n",
    "            self.shortcut = nn.Sequential(\n",
    "                nn.Conv2d(in_channels, out_channels, kernel_size=1, stride=stride, bias=False),\n",
    "                nn.BatchNorm2d(out_channels)\n",
    "            )\n",
    "        \n",
    "    def forward(self, x):\n",
    "        return F.relu(self.residual(x) + self.shortcut(x))"
   ]
  },
  {
   "cell_type": "code",
   "execution_count": 3,
   "id": "assisted-arnold",
   "metadata": {},
   "outputs": [],
   "source": [
    "class ResNet(nn.Module):\n",
    "    def __init__(self, in_channels, num_class):\n",
    "        super(ResNet, self).__init__()\n",
    "        \n",
    "        self.conv_layer_1 = nn.Sequential(\n",
    "            nn.Conv2d(in_channels, 64, kernel_size=7, stride=2, padding=3, bias=False),\n",
    "            nn.BatchNorm2d(64),\n",
    "            nn.ReLU(),\n",
    "            nn.MaxPool2d(kernel_size=3, stride=2, padding=1)\n",
    "        )\n",
    "        \n",
    "        self.conv_layer_2 = self.make_conv_layer(in_channels=64, out_channels=64, num_blocks=2, first_stride=1)   \n",
    "        self.conv_layer_3 = self.make_conv_layer(in_channels=64, out_channels=128, num_blocks=2, first_stride=2)\n",
    "        self.conv_layer_4 = self.make_conv_layer(in_channels=128, out_channels=256, num_blocks=2, first_stride=2)\n",
    "        self.conv_layer_5 = self.make_conv_layer(in_channels=256, out_channels=512, num_blocks=2, first_stride=2)\n",
    "        \n",
    "        self.fc_layer = nn.Linear(512, num_class)\n",
    "    \n",
    "    def forward(self, x):\n",
    "        x = self.conv_layer_1(x)\n",
    "        x = self.conv_layer_2(x)  # 56 * 56 * 64\n",
    "        x = self.conv_layer_3(x)  # 28 * 28 * 128\n",
    "        x = self.conv_layer_4(x)  # 14 * 14 * 256\n",
    "        x = self.conv_layer_5(x)  #  7 *  7 * 512\n",
    "        x = F.avg_pool2d(x, 7)    #  1 *  1 * 512\n",
    "        x = x.view(x.size(0), -1) # flatten\n",
    "        x = self.fc_layer(x)      # fully connected layer\n",
    "        return x\n",
    "    \n",
    "    def make_conv_layer(self, in_channels, out_channels, num_blocks, first_stride):  # 레이어를 거쳤을 때 차원의 변화, 레이어의 블록 개수\n",
    "        \n",
    "        layers = []\n",
    "        for stride in [first_stride] + [1] * (num_blocks  - 1):  # layer2 빼고 나머지 층들은 첫번째 블록에서 stride 가 2\n",
    "            layers.append(BasicBlock(in_channels=in_channels, out_channels=out_channels, stride=stride))  # layer 를 구성하는 블록들을 모두 만듦\n",
    "            in_channels = out_channels  # 첫번째 블록에서 차원 수가 바뀌고 나머지 블록에서는 그대로 유지\n",
    "            \n",
    "        return nn.Sequential(*layers)\n"
   ]
  },
  {
   "cell_type": "code",
   "execution_count": 4,
   "id": "smoking-advocacy",
   "metadata": {},
   "outputs": [
    {
     "data": {
      "text/plain": [
       "tensor([[-0.1674,  0.2047,  0.5747,  0.0848, -0.2590, -1.4141,  0.0249,  0.0279,\n",
       "          0.9875,  0.3798],\n",
       "        [-0.0854,  0.4315,  0.5267,  0.1610, -0.1972, -1.3579, -0.1614,  0.0467,\n",
       "          1.0248,  0.3960],\n",
       "        [-0.2657,  0.3580,  0.6110,  0.1961, -0.2925, -1.3087, -0.1232,  0.0716,\n",
       "          1.1121,  0.3374],\n",
       "        [-0.0781,  0.4652,  0.4923,  0.1827, -0.1818, -1.3926, -0.0498,  0.1606,\n",
       "          1.0780,  0.5255],\n",
       "        [-0.0219,  0.4431,  0.6013,  0.0537, -0.1950, -1.3376, -0.1097,  0.0094,\n",
       "          1.0720,  0.3729],\n",
       "        [-0.1575,  0.3927,  0.5286,  0.0448, -0.2207, -1.4736,  0.0104,  0.0328,\n",
       "          1.0741,  0.4644],\n",
       "        [-0.0610,  0.3712,  0.4117,  0.1535, -0.1969, -1.2586, -0.1222,  0.0631,\n",
       "          1.1849,  0.4746],\n",
       "        [-0.1268,  0.4474,  0.5318,  0.1427, -0.3674, -1.3568, -0.1783,  0.1475,\n",
       "          1.1886,  0.4684],\n",
       "        [-0.1611,  0.4957,  0.5890,  0.1434, -0.0644, -1.5604, -0.2058,  0.0920,\n",
       "          1.1791,  0.5571],\n",
       "        [-0.0925,  0.4013,  0.4944,  0.0111, -0.3797, -1.4503, -0.0593,  0.0433,\n",
       "          1.0857,  0.3029]], device='cuda:0', grad_fn=<AddmmBackward>)"
      ]
     },
     "execution_count": 4,
     "metadata": {},
     "output_type": "execute_result"
    }
   ],
   "source": [
    "model = ResNet(in_channels=3, num_class=10).to(device)\n",
    "x = torch.randn(10, 3, IMG_SIZE, IMG_SIZE).to(device)\n",
    "model(x)"
   ]
  },
  {
   "cell_type": "code",
   "execution_count": null,
   "id": "addressed-astrology",
   "metadata": {},
   "outputs": [],
   "source": []
  }
 ],
 "metadata": {
  "kernelspec": {
   "display_name": "Python 3",
   "language": "python",
   "name": "python3"
  },
  "language_info": {
   "codemirror_mode": {
    "name": "ipython",
    "version": 3
   },
   "file_extension": ".py",
   "mimetype": "text/x-python",
   "name": "python",
   "nbconvert_exporter": "python",
   "pygments_lexer": "ipython3",
   "version": "3.8.10"
  }
 },
 "nbformat": 4,
 "nbformat_minor": 5
}
