{
 "cells": [
  {
   "cell_type": "code",
   "execution_count": 1,
   "id": "regional-shopping",
   "metadata": {},
   "outputs": [],
   "source": [
    "import matplotlib.pyplot as plt\n",
    "import numpy as np\n",
    "import requests\n",
    "import os"
   ]
  },
  {
   "cell_type": "code",
   "execution_count": 2,
   "id": "hungarian-vessel",
   "metadata": {},
   "outputs": [],
   "source": [
    "with open(\"example_index\", \"wb\") as f:\n",
    "    r = requests.get(\"http://webdatacommons.org/hyperlinkgraph/data/example_index\")\n",
    "    f.write(r.content)\n",
    "with open(\"example_arcs\", \"wb\") as f:\n",
    "    r = requests.get(\"http://webdatacommons.org/hyperlinkgraph/data/example_arcs\")    \n",
    "    f.write(r.content)\n",
    "\n",
    "nodes = np.loadtxt(\"example_index\", dtype=object)[:,0]\n",
    "edges = np.loadtxt(\"example_arcs\", dtype=int)\n",
    "\n",
    "os.system(\"rm example_index\")\n",
    "os.system(\"rm example_arcs\")\n",
    "\n",
    "n_nodes = nodes.shape[0]\n",
    "n_edges = edges.shape[0]"
   ]
  },
  {
   "cell_type": "markdown",
   "id": "legendary-injection",
   "metadata": {},
   "source": [
    "### Graph Init"
   ]
  },
  {
   "cell_type": "code",
   "execution_count": 33,
   "id": "noticed-award",
   "metadata": {},
   "outputs": [],
   "source": [
    "# out degrees\n",
    "degrees = [0 for i in range(n_nodes)]\n",
    "# adjacency lists\n",
    "adj = [[] for i in range(n_nodes)]\n",
    "\n",
    "for u, v in edges:\n",
    "    degrees[u] += 1\n",
    "    adj[v].append(u)"
   ]
  },
  {
   "cell_type": "markdown",
   "id": "employed-wallace",
   "metadata": {},
   "source": [
    "### Algorithm"
   ]
  },
  {
   "cell_type": "code",
   "execution_count": 40,
   "id": "demographic-pathology",
   "metadata": {},
   "outputs": [
    {
     "name": "stderr",
     "output_type": "stream",
     "text": [
      "100%|██████████| 100/100 [00:00<00:00, 3739.51it/s]\n"
     ]
    }
   ],
   "source": [
    "import tqdm\n",
    "\n",
    "EPOCH = 100\n",
    "beta = 0.85\n",
    "r = np.ones(n_nodes) / n_nodes\n",
    "residuals = []\n",
    "\n",
    "for epoch in tqdm.tqdm(range(EPOCH)):\n",
    "    new_r = np.zeros_like(r)\n",
    "    \n",
    "    for n in range(n_nodes):\n",
    "        # from adjacent nodes\n",
    "        new_r[n] = sum(beta * r[v] / degrees[v] for v in adj[n])\n",
    "        # random teleports\n",
    "        new_r[n] += (1 - beta) / n_nodes\n",
    "    # dead ends\n",
    "    new_r /= new_r.sum()\n",
    "    \n",
    "    residuals.append(np.sum(np.abs(r - new_r)))\n",
    "    r = new_r"
   ]
  },
  {
   "cell_type": "code",
   "execution_count": 41,
   "id": "successful-turner",
   "metadata": {},
   "outputs": [
    {
     "name": "stdout",
     "output_type": "stream",
     "text": [
      "0.123900\tblogspot.com\n",
      "0.038960\tcreativecommons.org\n",
      "0.032904\tcanalblog.com\n",
      "0.031180\trea-group.com\n",
      "0.025555\twikipedia.org\n",
      "0.024800\twikimedia.org\n",
      "0.023818\tyahoo.com\n",
      "0.021117\twordpress.com\n",
      "0.020645\tyoutube.com\n",
      "0.020454\tflickr.com\n",
      "0.019235\ttumblr.com\n"
     ]
    }
   ],
   "source": [
    "for idx, (score, page) in enumerate(sorted(zip(r, nodes), reverse=True)):\n",
    "    print(f\"{score:.6f}\\t{page}\")\n",
    "    if idx >= 10:\n",
    "        break"
   ]
  },
  {
   "cell_type": "code",
   "execution_count": null,
   "id": "vocational-giant",
   "metadata": {},
   "outputs": [],
   "source": []
  },
  {
   "cell_type": "code",
   "execution_count": null,
   "id": "convinced-march",
   "metadata": {},
   "outputs": [],
   "source": []
  },
  {
   "cell_type": "code",
   "execution_count": null,
   "id": "legal-semester",
   "metadata": {},
   "outputs": [],
   "source": []
  }
 ],
 "metadata": {
  "kernelspec": {
   "display_name": "Python 3",
   "language": "python",
   "name": "python3"
  },
  "language_info": {
   "codemirror_mode": {
    "name": "ipython",
    "version": 3
   },
   "file_extension": ".py",
   "mimetype": "text/x-python",
   "name": "python",
   "nbconvert_exporter": "python",
   "pygments_lexer": "ipython3",
   "version": "3.8.10"
  }
 },
 "nbformat": 4,
 "nbformat_minor": 5
}
