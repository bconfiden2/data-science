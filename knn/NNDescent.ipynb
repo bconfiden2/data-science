{
 "cells": [
  {
   "cell_type": "code",
   "execution_count": 1,
   "id": "least-vietnam",
   "metadata": {},
   "outputs": [],
   "source": [
    "import heapq\n",
    "import random\n",
    "import numpy as np"
   ]
  },
  {
   "cell_type": "markdown",
   "id": "differential-ending",
   "metadata": {},
   "source": [
    "### Settings"
   ]
  },
  {
   "cell_type": "code",
   "execution_count": 2,
   "id": "white-august",
   "metadata": {},
   "outputs": [],
   "source": [
    "K = 50\n",
    "N = 1000\n",
    "d = 50\n",
    "rho = 0.5\n",
    "threshold = 0.001\n",
    "sim = lambda x, y: np.sqrt(np.sum((x - y)**2))"
   ]
  },
  {
   "cell_type": "markdown",
   "id": "improved-wrapping",
   "metadata": {},
   "source": [
    "### Dataset"
   ]
  },
  {
   "cell_type": "code",
   "execution_count": 3,
   "id": "swiss-maple",
   "metadata": {},
   "outputs": [
    {
     "name": "stdout",
     "output_type": "stream",
     "text": [
      "(1000, 50)\n"
     ]
    }
   ],
   "source": [
    "V = np.array([np.random.randn(d) for _ in range(N)])\n",
    "print(V.shape)"
   ]
  },
  {
   "cell_type": "markdown",
   "id": "explicit-survey",
   "metadata": {},
   "source": [
    "### NN-Descent"
   ]
  },
  {
   "cell_type": "code",
   "execution_count": 4,
   "id": "ahead-equipment",
   "metadata": {},
   "outputs": [],
   "source": [
    "def reverse(B):\n",
    "    Ro, Rn = [[] for _ in range(N)], [[] for _ in range(N)]\n",
    "    for v in range(N):\n",
    "        for dist, node, flg_new in B[v]:\n",
    "            if flg_new:\n",
    "                Rn[node].append(v)\n",
    "            else:\n",
    "                Ro[node].append(v)\n",
    "    return Ro, Rn\n",
    "\n",
    "def sample(S, n):\n",
    "    random.shuffle(S)\n",
    "    return S[:n]"
   ]
  },
  {
   "cell_type": "code",
   "execution_count": 5,
   "id": "facial-insight",
   "metadata": {},
   "outputs": [],
   "source": [
    "# Graph Initialize\n",
    "tmp = [i for i in range(N)]\n",
    "B = [sorted([sim(V[x], V[y]), x, True] for x in random.sample(tmp, K)) for y in range(N)]"
   ]
  },
  {
   "cell_type": "code",
   "execution_count": 6,
   "id": "legal-reception",
   "metadata": {},
   "outputs": [],
   "source": [
    "# Algorithm\n",
    "rnd = 0\n",
    "changes = N * K\n",
    "while changes > threshold * N * K:\n",
    "    rnd += 1\n",
    "    changes = 0\n",
    "    Bo, Bn = [], []\n",
    "    Ro, Rn = reverse(B)\n",
    "    for v in range(N):\n",
    "        old, new = [], []\n",
    "        for idx, (d, node, flg_new) in enumerate(B[v]):\n",
    "            if flg_new:\n",
    "                new.append((node, idx))\n",
    "            else:\n",
    "                old.append(node)\n",
    "        newsample = []\n",
    "        for node, i in sample(new, int(rho*K)):\n",
    "            B[v][i][2] = False\n",
    "            newsample.append(node)\n",
    "        Bo.append(old)\n",
    "        Bn.append(newsample)\n",
    "        \n",
    "    for v in range(N):\n",
    "        Ao = set(Bo[v]).union(set(sample(Ro[v], int(rho*K))))\n",
    "        An = set(Bn[v]).union(set(sample(Rn[v], int(rho*K))))\n",
    "        for u1 in An:\n",
    "            for u2 in An:\n",
    "                if u1 >= u2:\n",
    "                    continue\n",
    "                distance = sim(V[u1], V[u2])\n",
    "                heapq.heappush(B[u1], [distance, u2, True])\n",
    "                heapq.heappush(B[u2], [distance, u1, True])\n",
    "            for u2 in Ao:\n",
    "                distance = sim(V[u1], V[u2])\n",
    "                heapq.heappush(B[u1], [distance, u2, True])\n",
    "                heapq.heappush(B[u2], [distance, u1, True])\n",
    "        \n",
    "    for v in range(N):\n",
    "        tmp = []\n",
    "        bef = -1\n",
    "        cur = [-1, -1, -1]\n",
    "        for _ in range(K):\n",
    "            while cur[1] == bef or cur[1] == v:\n",
    "                cur = heapq.heappop(B[v])\n",
    "            tmp.append(cur)\n",
    "            bef = cur[1]\n",
    "        B[v] = tmp\n",
    "        changes += sum(1 for d, n, flg in B[v] if flg)"
   ]
  },
  {
   "cell_type": "code",
   "execution_count": null,
   "id": "awful-execution",
   "metadata": {},
   "outputs": [],
   "source": []
  }
 ],
 "metadata": {
  "kernelspec": {
   "display_name": "Python 3",
   "language": "python",
   "name": "python3"
  },
  "language_info": {
   "codemirror_mode": {
    "name": "ipython",
    "version": 3
   },
   "file_extension": ".py",
   "mimetype": "text/x-python",
   "name": "python",
   "nbconvert_exporter": "python",
   "pygments_lexer": "ipython3",
   "version": "3.8.10"
  }
 },
 "nbformat": 4,
 "nbformat_minor": 5
}
