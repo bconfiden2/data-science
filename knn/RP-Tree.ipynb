{
 "cells": [
  {
   "cell_type": "code",
   "execution_count": 1,
   "metadata": {},
   "outputs": [],
   "source": [
    "import heapq\n",
    "import numpy as np\n",
    "import random\n",
    "import tqdm\n",
    "import matplotlib.pyplot as plt"
   ]
  },
  {
   "cell_type": "markdown",
   "metadata": {},
   "source": [
    "### Settings"
   ]
  },
  {
   "cell_type": "code",
   "execution_count": 2,
   "metadata": {},
   "outputs": [],
   "source": [
    "K = 20\n",
    "N = 1000\n",
    "D = 50\n",
    "sim = lambda x, y: np.sqrt(np.sum((x - y)**2))"
   ]
  },
  {
   "cell_type": "markdown",
   "metadata": {},
   "source": [
    "### Dataset"
   ]
  },
  {
   "cell_type": "code",
   "execution_count": 3,
   "metadata": {},
   "outputs": [
    {
     "name": "stdout",
     "output_type": "stream",
     "text": [
      "(1000, 50)\n"
     ]
    }
   ],
   "source": [
    "random.seed(1234)\n",
    "np.random.seed(1234)\n",
    "V = np.array([np.random.randn(D) for _ in range(N)])\n",
    "print(V.shape)"
   ]
  },
  {
   "cell_type": "markdown",
   "metadata": {},
   "source": [
    "### Exact"
   ]
  },
  {
   "cell_type": "code",
   "execution_count": 4,
   "metadata": {},
   "outputs": [
    {
     "name": "stderr",
     "output_type": "stream",
     "text": [
      "100%|██████████████████████████████████████████████████████████████████████████████| 1000/1000 [00:10<00:00, 98.25it/s]\n"
     ]
    }
   ],
   "source": [
    "answer = [[] for _ in range(N)]\n",
    "for i in tqdm.tqdm(range(N)):\n",
    "    hq = []\n",
    "    for j in range(N):\n",
    "        dist = sim(V[i], V[j])\n",
    "        heapq.heappush(hq, (dist, j))\n",
    "    for k in range(K+1):\n",
    "        dist, j = heapq.heappop(hq)\n",
    "        answer[i].append(j)"
   ]
  },
  {
   "cell_type": "markdown",
   "metadata": {},
   "source": [
    "### Utils"
   ]
  },
  {
   "cell_type": "code",
   "execution_count": 5,
   "metadata": {},
   "outputs": [],
   "source": [
    "def recall(exact, result):\n",
    "    total = 0\n",
    "    right = 0\n",
    "    for r1, r2 in zip(exact, result):\n",
    "        right += len(set(r1[1:K+1]).intersection(set(r2)))\n",
    "        total += K\n",
    "    return right/total"
   ]
  },
  {
   "cell_type": "code",
   "execution_count": 6,
   "metadata": {},
   "outputs": [],
   "source": [
    "def update_pq(pqs):\n",
    "    tmpqs = []\n",
    "    for idx, pq in enumerate(pqs):\n",
    "        res = []\n",
    "        bef = -1\n",
    "        while len(pq) > 0 and len(res) < K:\n",
    "            dist, n = heapq.heappop(pq)\n",
    "            if bef == n:\n",
    "                continue\n",
    "            heapq.heappush(res, (dist, n))\n",
    "            bef = n\n",
    "        tmpqs.append(res)\n",
    "    pqs = tmpqs"
   ]
  },
  {
   "cell_type": "code",
   "execution_count": 7,
   "metadata": {},
   "outputs": [],
   "source": [
    "def knn(nodes, pqs):\n",
    "    for a in nodes:\n",
    "        for b in nodes:\n",
    "            if a==b: continue\n",
    "            heapq.heappush(pqs[a], (sim(V[a], V[b]), b))"
   ]
  },
  {
   "cell_type": "code",
   "execution_count": 8,
   "metadata": {},
   "outputs": [],
   "source": [
    "def divide(nodes, pqs, depth):\n",
    "    if len(nodes) <= threshold:\n",
    "        knn(nodes, pqs)\n",
    "        return\n",
    "    \n",
    "    centroids = random.sample(nodes, div)\n",
    "    divs = [[] for _ in range(div)]\n",
    "    for PLOTi, idx in enumerate(nodes):\n",
    "        dist, i = min((sim(V[idx], V[cen]), i) for i, cen in enumerate(centroids))\n",
    "        divs[i].append(idx)\n",
    "\n",
    "    for nxt in divs:\n",
    "        divide(nxt, pqs, depth+1)"
   ]
  },
  {
   "cell_type": "markdown",
   "metadata": {},
   "source": [
    "### Algorithm"
   ]
  },
  {
   "cell_type": "code",
   "execution_count": 9,
   "metadata": {},
   "outputs": [],
   "source": [
    "EPOCH = 20\n",
    "div = 2\n",
    "threshold = 150"
   ]
  },
  {
   "cell_type": "code",
   "execution_count": 10,
   "metadata": {},
   "outputs": [
    {
     "name": "stderr",
     "output_type": "stream",
     "text": [
      "100%|██████████████████████████████████████████████████████████████████████████████████| 20/20 [00:22<00:00,  1.11s/it]"
     ]
    },
    {
     "name": "stdout",
     "output_type": "stream",
     "text": [
      "0.98035\n"
     ]
    },
    {
     "name": "stderr",
     "output_type": "stream",
     "text": [
      "\n"
     ]
    }
   ],
   "source": [
    "random.seed(1234)\n",
    "pqs = [[] for _ in range(N)]\n",
    "for _ in tqdm.tqdm(range(EPOCH)):\n",
    "    divide(list(range(N)), pqs, 0)\n",
    "\n",
    "result = []\n",
    "for idx, pq in enumerate(pqs):\n",
    "    res = []\n",
    "    bef = -1\n",
    "    while len(pq) > 0 and len(res) < K:\n",
    "        dist, n = heapq.heappop(pq)\n",
    "        if bef == n:\n",
    "            continue\n",
    "        res.append(n)\n",
    "        bef = n\n",
    "    result.append(res)\n",
    "    if len(res) < K:\n",
    "        print(\"부족!\", idx)\n",
    "    if len(res) != len(set(res)):\n",
    "        print(\"중복!\", idx)\n",
    "        \n",
    "print(recall(answer, result))"
   ]
  }
 ],
 "metadata": {
  "kernelspec": {
   "display_name": "Python 3",
   "language": "python",
   "name": "python3"
  },
  "language_info": {
   "codemirror_mode": {
    "name": "ipython",
    "version": 3
   },
   "file_extension": ".py",
   "mimetype": "text/x-python",
   "name": "python",
   "nbconvert_exporter": "python",
   "pygments_lexer": "ipython3",
   "version": "3.7.6"
  }
 },
 "nbformat": 4,
 "nbformat_minor": 5
}
