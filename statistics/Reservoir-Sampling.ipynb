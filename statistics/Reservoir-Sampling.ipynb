{
 "cells": [
  {
   "cell_type": "code",
   "execution_count": 8,
   "id": "7288d6ae",
   "metadata": {},
   "outputs": [],
   "source": [
    "import tqdm\n",
    "import random\n",
    "import matplotlib.pyplot as plt"
   ]
  },
  {
   "cell_type": "code",
   "execution_count": 9,
   "id": "e6992586",
   "metadata": {},
   "outputs": [],
   "source": [
    "EPOCH = 10000\n",
    "N = 100\n",
    "K = 10"
   ]
  },
  {
   "cell_type": "code",
   "execution_count": 10,
   "id": "29975a9b",
   "metadata": {},
   "outputs": [
    {
     "name": "stderr",
     "output_type": "stream",
     "text": [
      "100%|██████████████████████████████████| 10000/10000 [00:00<00:00, 13897.39it/s]\n"
     ]
    }
   ],
   "source": [
    "cnt = [0 for _ in range(N)]\n",
    "\n",
    "for ep in tqdm.tqdm(range(EPOCH)):\n",
    "    stream = [i for i in range(N)]\n",
    "    sample = [i for i in range(K)]\n",
    "    \n",
    "    for i in range(K, N):\n",
    "        v = random.randint(0, i)\n",
    "        if v < K:\n",
    "            sample[v] = i\n",
    "    for v in sample:\n",
    "        cnt[v] += 1\n",
    "\n",
    "total = sum(cnt)\n",
    "result = [v for v in map(lambda x: x/total, cnt)]"
   ]
  },
  {
   "cell_type": "code",
   "execution_count": 12,
   "id": "757fe82e",
   "metadata": {},
   "outputs": [
    {
     "data": {
      "image/png": "[encoded data removed]",
      "text/plain": [
       "<Figure size 432x288 with 1 Axes>"
      ]
     },
     "metadata": {
      "needs_background": "light"
     },
     "output_type": "display_data"
    }
   ],
   "source": [
    "plt.plot(range(100), result)\n",
    "plt.axis([0, 99, 0, 0.1])\n",
    "plt.show()"
   ]
  }
 ],
 "metadata": {
  "kernelspec": {
   "display_name": "Python 3 (ipykernel)",
   "language": "python",
   "name": "python3"
  },
  "language_info": {
   "codemirror_mode": {
    "name": "ipython",
    "version": 3
   },
   "file_extension": ".py",
   "mimetype": "text/x-python",
   "name": "python",
   "nbconvert_exporter": "python",
   "pygments_lexer": "ipython3",
   "version": "3.8.10"
  }
 },
 "nbformat": 4,
 "nbformat_minor": 5
}
